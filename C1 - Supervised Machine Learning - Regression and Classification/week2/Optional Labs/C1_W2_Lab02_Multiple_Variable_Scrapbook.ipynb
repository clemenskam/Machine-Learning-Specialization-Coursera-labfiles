{
 "cells": [
  {
   "cell_type": "markdown",
   "metadata": {},
   "source": [
    "## C1_W2_Lab02_Multiple_variable_Scrapbook"
   ]
  },
  {
   "cell_type": "code",
   "execution_count": 10,
   "metadata": {},
   "outputs": [],
   "source": [
    "import numpy as np\n",
    "import matplotlib.pyplot as plt\n",
    "%config InlineBackend.figure_format = 'retina'\n",
    "import copy\n"
   ]
  },
  {
   "cell_type": "code",
   "execution_count": 11,
   "metadata": {},
   "outputs": [
    {
     "name": "stdout",
     "output_type": "stream",
     "text": [
      "X_train: (3, 4), y_train: (3, 1)\n",
      "w_init: (4,), b_init: 785.1811367994083\n"
     ]
    }
   ],
   "source": [
    "# f_wb = np.dot(w, x) + b\n",
    "# features: size, bedrooms, floors, age\n",
    "\n",
    "\n",
    "X_train = np.array([[2104, 5, 1, 45],\n",
    "                    [1416, 3, 2, 40],\n",
    "                    [852, 2, 1, 35]])\n",
    "\n",
    "y_train = np.array([[460],\n",
    "                    [232],\n",
    "                    [178]])\n",
    "\n",
    "print(f\"X_train: {X_train.shape}, y_train: {y_train.shape}\")\n",
    "\n",
    "w_init = np.array([0.39133535, 18.75376741, -53.36032453, -26.42131618])\n",
    "b_init = 785.1811367994083\n",
    "\n",
    "print(f\"w_init: {w_init.shape}, b_init: {b_init}\")"
   ]
  },
  {
   "cell_type": "code",
   "execution_count": 12,
   "metadata": {},
   "outputs": [],
   "source": [
    "def predict_single_loop(x, w, b):\n",
    "    \"\"\"\n",
    "    single loop prediction using linear regression\n",
    "\n",
    "    Args:\n",
    "        x: example with multiple input features Shape (n,)\n",
    "        w: weights of the model (vector, shape (n,))\n",
    "        b: (scalar) bias of the model\n",
    "\n",
    "    Returns:\n",
    "        p: (scalar) prediction of the model\n",
    "    \"\"\"\n",
    "\n",
    "    n = x.shape[0]\n",
    "    p = 0\n",
    "    for i in range(n):\n",
    "        p += w[0, i] * x[i]\n",
    "    p += b\n",
    "    return p\n"
   ]
  },
  {
   "cell_type": "markdown",
   "metadata": {},
   "source": []
  },
  {
   "cell_type": "code",
   "execution_count": 13,
   "metadata": {},
   "outputs": [],
   "source": [
    "def predict(X, w, b):\n",
    "    \"\"\"  \n",
    "    Predicts output for training data, using w\n",
    "\n",
    "    Args:\n",
    "        X: nd_array, shape (m, n) Training set with m examples, n features\n",
    "        w: nd_array, shape (1, n): row vector containing n weights\n",
    "        b: scalar: bias\n",
    "\n",
    "    Returns:\n",
    "        p: nd_array, shape(m, 1): estimates based on w, b\n",
    "    \"\"\"\n",
    "\n",
    "    p = np.dot(w, X.T) + b\n",
    "    \n",
    "    return p\n",
    "\n"
   ]
  },
  {
   "cell_type": "code",
   "execution_count": 14,
   "metadata": {},
   "outputs": [
    {
     "name": "stdout",
     "output_type": "stream",
     "text": [
      "[459.99999762 231.99999837 177.99999899]\n",
      "[459.99999762 231.99999837 177.99999899]\n",
      "[459.99999762 231.99999837 177.99999899]\n"
     ]
    }
   ],
   "source": [
    "print(np.dot(w_init, X_train.T) + b_init)\n",
    "print(np.dot(X_train, w_init.T) + b_init)\n",
    "print(predict(X_train, w_init, b_init))"
   ]
  },
  {
   "cell_type": "code",
   "execution_count": 15,
   "metadata": {},
   "outputs": [],
   "source": [
    "def compute_cost(X, y, w, b):\n",
    "    \"\"\"\n",
    "    Computes the cost of using w as the weight vector for linear regression to fit the data points in X and y\n",
    "\n",
    "    Args:\n",
    "        X: matrix of input features (shape: m, n)\n",
    "        y: vector of output values (shape: m, 1)\n",
    "        w: weight vector (shape: 1, n)\n",
    "        b: bias (scalar)\n",
    "\n",
    "    Returns:\n",
    "        cost: the cost of the model\n",
    "\n",
    "    Calls:\n",
    "        predict(X, w, b): returns p (shape: m, 1)\n",
    "    \"\"\"\n",
    "\n",
    "    m = X.shape[0]\n",
    "    #print(f'm  ={m}')\n",
    "    f_wb = predict(X, w, b)\n",
    "    #print(f'f_wb={f_wb}, shape={f_wb.shape}')\n",
    "    diff = f_wb - y.T\n",
    "    #print(f'diff={diff}')\n",
    "    diff_2 = diff**2\n",
    "    #print(f'diff_2={diff_2}')\n",
    "\n",
    "    cost = 1 / (2 * m) * np.sum((f_wb - y.T)**2)\n",
    "\n",
    "    return cost\n"
   ]
  },
  {
   "cell_type": "code",
   "execution_count": 16,
   "metadata": {},
   "outputs": [
    {
     "name": "stdout",
     "output_type": "stream",
     "text": [
      "cost=1.5578904045996674e-12\n"
     ]
    }
   ],
   "source": [
    "print(f'cost={compute_cost(X_train[:,:].reshape(-1,4), y_train[:].reshape(-1,1), w_init, b_init)}')"
   ]
  },
  {
   "cell_type": "code",
   "execution_count": 17,
   "metadata": {},
   "outputs": [
    {
     "name": "stdout",
     "output_type": "stream",
     "text": [
      "X_train[0,:]=[[2104    5    1   45]], shape=(1, 4)\n",
      "y_train[0]=[460], shape=(1, 1)\n"
     ]
    }
   ],
   "source": [
    "print(f'X_train[0,:]={X_train[0,:].reshape(1,4)}, shape={X_train[0,:].reshape(-1,4).shape}')\n",
    "print(f'y_train[0]={y_train[0]}, shape={y_train[0].reshape(-1,1).shape}')"
   ]
  },
  {
   "cell_type": "code",
   "execution_count": 33,
   "metadata": {},
   "outputs": [],
   "source": [
    "def gradient_descent(X, y, w_init, b_init, alpha, numiter):\n",
    "    \"\"\"\n",
    "    Function to calculate optimal w, b for inputs X containing n features\n",
    "\n",
    "    Args:\n",
    "        X: nd_array (m, n): Training sample \n",
    "        y: nd_array (m, 1): column vector containing training targets\n",
    "        w_init: nd_array (1, n): row vector containing initial guesses for weights\n",
    "        b_init: scalar: guess for initial bias\n",
    "        alpha: scalar: learning rate\n",
    "        numiter: scalar: number of iterations for gradient descent.\n",
    "\n",
    "    Calls:\n",
    "        predict(X, w, b): returns p (shape: m, 1))\n",
    "\n",
    "    Returns:\n",
    "        w: nd_array (1, n): row vector containing optimised weights\n",
    "        b: scalar: optimised bias\n",
    "        J_history: nd_array (1, numiter): row vector containing updates of cost as a function of iterations.\n",
    "    \"\"\"\n",
    "\n",
    "    w = copy.deepcopy(w_init)\n",
    "    b = b_init    \n",
    "    J_history = []\n",
    "\n",
    "    m = X.shape[0]\n",
    "\n",
    "    for i in range(numiter):\n",
    "        p = predict(X, w, b)\n",
    "        err = p.T - y\n",
    "        tmp_w = w - alpha * np.dot(err.T, X) / m\n",
    "        tmp_b = b - alpha * np.sum(err.T) / m\n",
    "        w = tmp_w\n",
    "        b = tmp_b\n",
    "        J_history.append(compute_cost(X, y, w, b))\n",
    "\n",
    "    return w, b, J_history"
   ]
  },
  {
   "cell_type": "code",
   "execution_count": 34,
   "metadata": {},
   "outputs": [
    {
     "name": "stdout",
     "output_type": "stream",
     "text": [
      "w_init.shape = (1, 4)\n"
     ]
    },
    {
     "name": "stdout",
     "output_type": "stream",
     "text": [
      "w = [[ 0.20396569  0.00374919 -0.0112487  -0.0658614 ]], b = -0.002235407530932534\n"
     ]
    }
   ],
   "source": [
    "w_init = np.zeros_like(w_init).reshape(1, 4)\n",
    "print(f'w_init.shape = {w_init.shape}')\n",
    "b_init = 0.0\n",
    "alpha = 5.0e-7\n",
    "num_iter = 1000\n",
    "\n",
    "w, b, J_history = gradient_descent(X_train, y_train, w_init, b_init, alpha, num_iter)\n",
    "\n",
    "print(f'w = {w}, b = {b}')"
   ]
  },
  {
   "cell_type": "code",
   "execution_count": 35,
   "metadata": {},
   "outputs": [
    {
     "ename": "IndexError",
     "evalue": "too many indices for array: array is 1-dimensional, but 3 were indexed",
     "output_type": "error",
     "traceback": [
      "\u001b[0;31m---------------------------------------------------------------------------\u001b[0m",
      "\u001b[0;31mIndexError\u001b[0m                                Traceback (most recent call last)",
      "Cell \u001b[0;32mIn[35], line 2\u001b[0m\n\u001b[1;32m      1\u001b[0m err \u001b[38;5;241m=\u001b[39m np\u001b[38;5;241m.\u001b[39marange(\u001b[38;5;241m0\u001b[39m,\u001b[38;5;241m6\u001b[39m)\n\u001b[0;32m----> 2\u001b[0m \u001b[38;5;28mprint\u001b[39m (\u001b[38;5;124mf\u001b[39m\u001b[38;5;124m'\u001b[39m\u001b[38;5;124merr=\u001b[39m\u001b[38;5;132;01m{\u001b[39;00merr[\u001b[38;5;241m0\u001b[39m,:,\u001b[38;5;241m2\u001b[39m]\u001b[38;5;132;01m}\u001b[39;00m\u001b[38;5;124m'\u001b[39m)\n\u001b[1;32m      3\u001b[0m X \u001b[38;5;241m=\u001b[39m np\u001b[38;5;241m.\u001b[39marange(\u001b[38;5;241m24\u001b[39m)\u001b[38;5;241m.\u001b[39mreshape(\u001b[38;5;241m6\u001b[39m,\u001b[38;5;241m-\u001b[39m\u001b[38;5;241m1\u001b[39m)\u001b[38;5;241m+\u001b[39m\u001b[38;5;241m1\u001b[39m\n\u001b[1;32m      4\u001b[0m \u001b[38;5;28mprint\u001b[39m(\u001b[38;5;124mf\u001b[39m\u001b[38;5;124m'\u001b[39m\u001b[38;5;124mX = \u001b[39m\u001b[38;5;132;01m{\u001b[39;00mX\u001b[38;5;132;01m}\u001b[39;00m\u001b[38;5;124m'\u001b[39m)\n",
      "\u001b[0;31mIndexError\u001b[0m: too many indices for array: array is 1-dimensional, but 3 were indexed"
     ]
    }
   ],
   "source": [
    "err = np.arange(0,6)\n",
    "print (f'err={err[0,:,2]}')\n",
    "X = np.arange(24).reshape(6,-1)+1\n",
    "print(f'X = {X}')\n",
    "print(f'err . X = {np.dot(err, X)}')\n",
    "print(f'np.sum')"
   ]
  },
  {
   "cell_type": "code",
   "execution_count": 4,
   "metadata": {},
   "outputs": [
    {
     "name": "stdout",
     "output_type": "stream",
     "text": [
      "gf area = 121.13387999999998\n",
      "tf area = 81.291\n"
     ]
    }
   ],
   "source": [
    "gf = (4.182+2.433+3.675)*(2.825+8.947)\n",
    "tf = (4.182+2.433+3.675)* 7.9\n",
    "print(f'gf area = {gf}')\n",
    "print(f'tf area = {tf}')"
   ]
  },
  {
   "cell_type": "code",
   "execution_count": null,
   "metadata": {},
   "outputs": [],
   "source": []
  }
 ],
 "metadata": {
  "kernelspec": {
   "display_name": "VScode_env",
   "language": "python",
   "name": "python3"
  },
  "language_info": {
   "codemirror_mode": {
    "name": "ipython",
    "version": 3
   },
   "file_extension": ".py",
   "mimetype": "text/x-python",
   "name": "python",
   "nbconvert_exporter": "python",
   "pygments_lexer": "ipython3",
   "version": "3.12.3"
  }
 },
 "nbformat": 4,
 "nbformat_minor": 2
}
