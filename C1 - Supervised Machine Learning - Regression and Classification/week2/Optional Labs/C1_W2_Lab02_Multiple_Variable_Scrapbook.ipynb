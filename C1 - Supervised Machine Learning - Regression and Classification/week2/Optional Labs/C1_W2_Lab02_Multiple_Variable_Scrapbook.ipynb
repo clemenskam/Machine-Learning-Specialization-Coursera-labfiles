{
 "cells": [
  {
   "cell_type": "markdown",
   "metadata": {},
   "source": [
    "## C1_W2_Lab02_Multiple_variable_Scrapbook"
   ]
  },
  {
   "cell_type": "code",
   "execution_count": 27,
   "metadata": {},
   "outputs": [],
   "source": [
    "import numpy as np\n",
    "import matplotlib.pyplot as plt\n",
    "%config InlineBackend.figure_format = 'retina'\n"
   ]
  },
  {
   "cell_type": "code",
   "execution_count": 40,
   "metadata": {},
   "outputs": [
    {
     "name": "stdout",
     "output_type": "stream",
     "text": [
      "X_train: (3, 4), y_train: (3, 1)\n",
      "w_init: (4,), b_init: 785.1811367994083\n"
     ]
    }
   ],
   "source": [
    "# f_wb = np.dot(w, x) + b\n",
    "# features: size, bedrooms, floors, age\n",
    "\n",
    "\n",
    "X_train = np.array([[2104, 5, 1, 45],\n",
    "                    [1416, 3, 2, 40],\n",
    "                    [852, 2, 1, 35]])\n",
    "\n",
    "y_train = np.array([[460],\n",
    "                    [232],\n",
    "                    [178]])\n",
    "\n",
    "print(f\"X_train: {X_train.shape}, y_train: {y_train.shape}\")\n",
    "\n",
    "w_init = np.array([0.39133535, 18.75376741, -53.36032453, -26.42131618])\n",
    "b_init = 785.1811367994083\n",
    "\n",
    "print(f\"w_init: {w_init.shape}, b_init: {b_init}\")"
   ]
  },
  {
   "cell_type": "code",
   "execution_count": 41,
   "metadata": {},
   "outputs": [],
   "source": [
    "def predict_single_loop(x, w, b):\n",
    "    \"\"\"\n",
    "    single loop prediction using linear regression\n",
    "\n",
    "    Args:\n",
    "        x: example with multiple input features Shape (n,)\n",
    "        w: weights of the model (vector, shape (n,))\n",
    "        b: (scalar) bias of the model\n",
    "\n",
    "    Returns:\n",
    "        p: (scalar) prediction of the model\n",
    "    \"\"\"\n",
    "\n",
    "    n = x.shape[0]\n",
    "    p = 0\n",
    "    for i in range(n):\n",
    "        p += w[0, i] * x[i]\n",
    "    p += b\n",
    "    return p\n"
   ]
  },
  {
   "cell_type": "markdown",
   "metadata": {},
   "source": []
  },
  {
   "cell_type": "code",
   "execution_count": 33,
   "metadata": {},
   "outputs": [],
   "source": [
    "def predict(X, w, b):\n",
    "    \"\"\"  \n",
    "    Predicts output for training data, using w\n",
    "\n",
    "    Args:\n",
    "        X: nd_array, shape (m, n) Training set with m examples, n features\n",
    "        w: nd_array, shape (1, n): row vector containing n weights\n",
    "        b: scalar: bias\n",
    "\n",
    "    Returns:\n",
    "        p: nd_array, shape(m, 1): estimates based on w, b\n",
    "    \"\"\"\n",
    "\n",
    "    p = np.dot(w, X.T) + b\n",
    "    \n",
    "    return p\n",
    "\n"
   ]
  },
  {
   "cell_type": "code",
   "execution_count": 42,
   "metadata": {},
   "outputs": [
    {
     "name": "stdout",
     "output_type": "stream",
     "text": [
      "[459.99999762 231.99999837 177.99999899]\n",
      "[459.99999762 231.99999837 177.99999899]\n",
      "[459.99999762 231.99999837 177.99999899]\n"
     ]
    }
   ],
   "source": [
    "print(np.dot(w_init, X_train.T) + b_init)\n",
    "print(np.dot(X_train, w_init.T) + b_init)\n",
    "print(predict(X_train, w_init, b_init))"
   ]
  },
  {
   "cell_type": "code",
   "execution_count": 57,
   "metadata": {},
   "outputs": [],
   "source": [
    "def compute_cost(X, y, w, b):\n",
    "    \"\"\"\n",
    "    Computes the cost of using w as the weight vector for linear regression to fit the data points in X and y\n",
    "\n",
    "    Args:\n",
    "        X: matrix of input features (shape: m x n)\n",
    "        y: vector of output values (shape: m x 1)\n",
    "        w: weight vector (shape: 1 x n)\n",
    "        b: bias (scalar)\n",
    "\n",
    "    Returns:\n",
    "        cost: the cost of the model\n",
    "\n",
    "    \"\"\"\n",
    "\n",
    "    m = X.shape[0]\n",
    "    print(f'm  ={m}')\n",
    "    f_wb = predict(X, w, b)\n",
    "    print(f'f_wb={f_wb}, shape={f_wb.shape}')\n",
    "    diff = f_wb - y_train.T\n",
    "    print(f'diff={diff}')\n",
    "    diff_2 = diff**2\n",
    "    print(f'diff_2={diff_2}')\n",
    "\n",
    "    cost = 1 / (2 * m) * np.sum((f_wb - y_train.T)**2)\n",
    "\n",
    "    return cost\n"
   ]
  },
  {
   "cell_type": "code",
   "execution_count": 58,
   "metadata": {},
   "outputs": [
    {
     "name": "stdout",
     "output_type": "stream",
     "text": [
      "m  =3\n",
      "f_wb=[459.99999762 231.99999837 177.99999899], shape=(3,)\n",
      "diff=[[-2.38059170e-06 -1.63059190e-06 -1.01059175e-06]]\n",
      "diff_2=[[5.66721682e-12 2.65882993e-12 1.02129568e-12]]\n",
      "cost=1.5578904045996674e-12\n"
     ]
    }
   ],
   "source": [
    "print(f'cost={compute_cost(X_train, y_train, w_init, b_init)}')"
   ]
  },
  {
   "cell_type": "code",
   "execution_count": null,
   "metadata": {},
   "outputs": [],
   "source": []
  }
 ],
 "metadata": {
  "kernelspec": {
   "display_name": "VScode_env",
   "language": "python",
   "name": "python3"
  },
  "language_info": {
   "codemirror_mode": {
    "name": "ipython",
    "version": 3
   },
   "file_extension": ".py",
   "mimetype": "text/x-python",
   "name": "python",
   "nbconvert_exporter": "python",
   "pygments_lexer": "ipython3",
   "version": "3.12.3"
  }
 },
 "nbformat": 4,
 "nbformat_minor": 2
}
